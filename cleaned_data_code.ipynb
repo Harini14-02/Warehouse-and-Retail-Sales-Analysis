{
 "cells": [
  {
   "cell_type": "code",
   "execution_count": 1,
   "id": "d477c835",
   "metadata": {},
   "outputs": [],
   "source": [
    "import pandas as pd"
   ]
  },
  {
   "cell_type": "code",
   "execution_count": 3,
   "id": "a75360db",
   "metadata": {},
   "outputs": [],
   "source": [
    "df = pd.read_csv('Warehouse_and_Retail_Sales.csv')"
   ]
  },
  {
   "cell_type": "code",
   "execution_count": 4,
   "id": "9c7ace52",
   "metadata": {},
   "outputs": [],
   "source": [
    "df_cleaned = df.dropna(subset=['RETAIL SALES', 'ITEM TYPE', 'SUPPLIER'])"
   ]
  },
  {
   "cell_type": "code",
   "execution_count": 5,
   "id": "2cbcb4b5",
   "metadata": {},
   "outputs": [],
   "source": [
    "df_cleaned = df_cleaned[(df_cleaned['RETAIL SALES'] >= 0) &\n",
    "                        (df_cleaned['RETAIL TRANSFERS'] >= 0) &\n",
    "                        (df_cleaned['WAREHOUSE SALES'] >= 0)]"
   ]
  },
  {
   "cell_type": "code",
   "execution_count": 6,
   "id": "89fbc5e7",
   "metadata": {},
   "outputs": [],
   "source": [
    "df_cleaned['DATE'] = pd.to_datetime(df_cleaned['YEAR'].astype(str) + '-' + df_cleaned['MONTH'].astype(str) + '-01')"
   ]
  },
  {
   "cell_type": "code",
   "execution_count": 7,
   "id": "d1de783f",
   "metadata": {},
   "outputs": [],
   "source": [
    "df_cleaned['INVENTORY_EFFICIENCY'] = df_cleaned['RETAIL SALES'] / (df_cleaned['RETAIL TRANSFERS'] + 1)"
   ]
  },
  {
   "cell_type": "code",
   "execution_count": 8,
   "id": "e3916920",
   "metadata": {},
   "outputs": [],
   "source": [
    "df_cleaned.to_csv(\"Cleaned_Warehouse_and_Retail_Sales.csv\", index=False)"
   ]
  }
 ],
 "metadata": {
  "kernelspec": {
   "display_name": "Python 3",
   "language": "python",
   "name": "python3"
  },
  "language_info": {
   "codemirror_mode": {
    "name": "ipython",
    "version": 3
   },
   "file_extension": ".py",
   "mimetype": "text/x-python",
   "name": "python",
   "nbconvert_exporter": "python",
   "pygments_lexer": "ipython3",
   "version": "3.12.2"
  }
 },
 "nbformat": 4,
 "nbformat_minor": 5
}
